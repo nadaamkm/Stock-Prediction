{
 "cells": [
  {
   "cell_type": "markdown",
   "id": "35cec0e8",
   "metadata": {},
   "source": [
    "### Predicting Future Stock Market Trends"
   ]
  },
  {
   "cell_type": "code",
   "execution_count": 2,
   "id": "529b9bc1",
   "metadata": {},
   "outputs": [
    {
     "name": "stdout",
     "output_type": "stream",
     "text": [
      "Collecting yfinance\n",
      "  Downloading yfinance-0.1.84-py2.py3-none-any.whl (29 kB)\n",
      "Collecting multitasking>=0.0.7\n",
      "  Downloading multitasking-0.0.11-py3-none-any.whl (8.5 kB)\n",
      "Requirement already satisfied: pandas>=0.24.0 in c:\\users\\mohar\\anaconda3\\lib\\site-packages (from yfinance) (1.4.2)\n",
      "Requirement already satisfied: appdirs>=1.4.4 in c:\\users\\mohar\\anaconda3\\lib\\site-packages (from yfinance) (1.4.4)\n",
      "Requirement already satisfied: requests>=2.26 in c:\\users\\mohar\\anaconda3\\lib\\site-packages (from yfinance) (2.27.1)\n",
      "Requirement already satisfied: lxml>=4.5.1 in c:\\users\\mohar\\anaconda3\\lib\\site-packages (from yfinance) (4.8.0)\n",
      "Requirement already satisfied: numpy>=1.15 in c:\\users\\mohar\\anaconda3\\lib\\site-packages (from yfinance) (1.21.5)\n",
      "Requirement already satisfied: pytz>=2020.1 in c:\\users\\mohar\\anaconda3\\lib\\site-packages (from pandas>=0.24.0->yfinance) (2021.3)\n",
      "Requirement already satisfied: python-dateutil>=2.8.1 in c:\\users\\mohar\\anaconda3\\lib\\site-packages (from pandas>=0.24.0->yfinance) (2.8.2)\n",
      "Requirement already satisfied: six>=1.5 in c:\\users\\mohar\\anaconda3\\lib\\site-packages (from python-dateutil>=2.8.1->pandas>=0.24.0->yfinance) (1.16.0)\n",
      "Requirement already satisfied: idna<4,>=2.5 in c:\\users\\mohar\\anaconda3\\lib\\site-packages (from requests>=2.26->yfinance) (3.3)\n",
      "Requirement already satisfied: urllib3<1.27,>=1.21.1 in c:\\users\\mohar\\anaconda3\\lib\\site-packages (from requests>=2.26->yfinance) (1.26.9)\n",
      "Requirement already satisfied: certifi>=2017.4.17 in c:\\users\\mohar\\anaconda3\\lib\\site-packages (from requests>=2.26->yfinance) (2021.10.8)\n",
      "Requirement already satisfied: charset-normalizer~=2.0.0 in c:\\users\\mohar\\anaconda3\\lib\\site-packages (from requests>=2.26->yfinance) (2.0.4)\n",
      "Installing collected packages: multitasking, yfinance\n",
      "Successfully installed multitasking-0.0.11 yfinance-0.1.84\n",
      "Note: you may need to restart the kernel to use updated packages.\n"
     ]
    }
   ],
   "source": [
    "pip install yfinance # To read stocks from Yahoo"
   ]
  },
  {
   "cell_type": "code",
   "execution_count": 4,
   "id": "08638f46",
   "metadata": {},
   "outputs": [
    {
     "name": "stdout",
     "output_type": "stream",
     "text": [
      "Collecting finta\n",
      "  Downloading finta-1.3-py3-none-any.whl (29 kB)\n",
      "Requirement already satisfied: numpy in c:\\users\\mohar\\anaconda3\\lib\\site-packages (from finta) (1.21.5)\n",
      "Requirement already satisfied: pandas in c:\\users\\mohar\\anaconda3\\lib\\site-packages (from finta) (1.4.2)\n",
      "Requirement already satisfied: python-dateutil>=2.8.1 in c:\\users\\mohar\\anaconda3\\lib\\site-packages (from pandas->finta) (2.8.2)\n",
      "Requirement already satisfied: pytz>=2020.1 in c:\\users\\mohar\\anaconda3\\lib\\site-packages (from pandas->finta) (2021.3)\n",
      "Requirement already satisfied: six>=1.5 in c:\\users\\mohar\\anaconda3\\lib\\site-packages (from python-dateutil>=2.8.1->pandas->finta) (1.16.0)\n",
      "Installing collected packages: finta\n",
      "Successfully installed finta-1.3\n",
      "Note: you may need to restart the kernel to use updated packages.\n"
     ]
    }
   ],
   "source": [
    "pip install finta"
   ]
  },
  {
   "cell_type": "code",
   "execution_count": 1,
   "id": "e32f9adb",
   "metadata": {},
   "outputs": [],
   "source": [
    "import yfinance as yf\n",
    "import datetime\n",
    "import pandas as pd\n",
    "import numpy as np\n",
    "from finta import TA\n",
    "import matplotlib.pyplot as plt\n",
    "import seaborn as sns\n",
    "from scipy import stats\n",
    "\n",
    "from sklearn import svm\n",
    "from sklearn.pipeline import Pipeline\n",
    "from sklearn.preprocessing import StandardScaler\n",
    "from sklearn.linear_model import LogisticRegression, LinearRegression\n",
    "from sklearn.ensemble import RandomForestClassifier, GradientBoostingClassifier, VotingClassifier \n",
    "from sklearn.neighbors import KNeighborsClassifier\n",
    "from sklearn.model_selection import train_test_split, GridSearchCV\n",
    "from sklearn.metrics import confusion_matrix, classification_report, mean_squared_error, accuracy_score, ConfusionMatrixDisplay\n",
    "\n",
    "from sklearn.metrics import mean_squared_error, mean_absolute_error, r2_score, make_scorer\n",
    "from sklearn.inspection import permutation_importance\n",
    "from sklearn.preprocessing import StandardScaler, PolynomialFeatures, OneHotEncoder\n",
    "from sklearn.model_selection import GridSearchCV, RandomizedSearchCV\n",
    "\n",
    "from sklearn.linear_model import Ridge, Lasso\n",
    "from sklearn.feature_selection import SequentialFeatureSelector\n",
    "from sklearn.pipeline import Pipeline, make_pipeline\n",
    "import category_encoders as ce\n",
    "from sklearn.compose import make_column_transformer, TransformedTargetRegressor"
   ]
  },
  {
   "cell_type": "code",
   "execution_count": 8,
   "id": "ab6d853f",
   "metadata": {},
   "outputs": [],
   "source": [
    "days = 100000 # number of historical data days\n",
    "interv = '1d' # rate\n",
    "stock= 'MSFT' # symbol of stock\n",
    "\n",
    "# list of symbols for technical indicators\n",
    "INDICATORS = ['RSI', 'MACD', 'STOCH','ADL', 'ATR', 'MOM', 'MFI', 'ROC', 'OBV', 'CCI', 'EMV', 'VORTEX']"
   ]
  },
  {
   "cell_type": "code",
   "execution_count": null,
   "id": "013d833c",
   "metadata": {},
   "outputs": [],
   "source": []
  },
  {
   "cell_type": "code",
   "execution_count": 9,
   "id": "cfb623a7",
   "metadata": {},
   "outputs": [
    {
     "name": "stdout",
     "output_type": "stream",
     "text": [
      "[*********************100%***********************]  1 of 1 completed\n",
      "9238\n"
     ]
    },
    {
     "data": {
      "text/plain": [
       "<AxesSubplot:xlabel='Date'>"
      ]
     },
     "execution_count": 9,
     "metadata": {},
     "output_type": "execute_result"
    },
    {
     "data": {
      "image/png": "[encoded data removed]",
      "text/plain": [
       "<Figure size 432x288 with 1 Axes>"
      ]
     },
     "metadata": {
      "needs_background": "light"
     },
     "output_type": "display_data"
    }
   ],
   "source": [
    "\"\"\"\n",
    "Next we pull the historical data using yfinance\n",
    "Rename the column names because finta uses the lowercase names\n",
    "\"\"\"\n",
    "\n",
    "start = (datetime.date.today() - datetime.timedelta( days ) )\n",
    "end = datetime.datetime.today()\n",
    "\n",
    "data = yf.download(stock, start=start, end=end, interval=interv)\n",
    "data.rename(columns={\"Close\": 'close', \"High\": 'high', \"Low\": 'low', 'Volume': 'volume', 'Open': 'open'}, inplace=True)\n",
    "print(len(data))\n",
    "\n",
    "tmp = data.iloc[-1000:]\n",
    "tmp['close'].plot()"
   ]
  },
  {
   "cell_type": "markdown",
   "id": "9be8b263",
   "metadata": {},
   "source": [
    "### Feature Engineering \n",
    "Prepare features for modelings with proper encoding and transformations\n",
    "\n",
    "ewm() function is used to provide exponential weighted functions."
   ]
  },
  {
   "cell_type": "code",
   "execution_count": 10,
   "id": "e4544ddb",
   "metadata": {},
   "outputs": [
    {
     "data": {
      "text/plain": [
       "<AxesSubplot:xlabel='Date'>"
      ]
     },
     "execution_count": 10,
     "metadata": {},
     "output_type": "execute_result"
    },
    {
     "data": {
      "image/png": "[encoded data removed]",
      "text/plain": [
       "<Figure size 432x288 with 1 Axes>"
      ]
     },
     "metadata": {
      "needs_background": "light"
     },
     "output_type": "display_data"
    }
   ],
   "source": [
    "def exponential_smooth(data, alpha):\n",
    "    \"\"\"\n",
    "    Function that exponentially smooths dataset so values are less 'rigid'\n",
    "    :param alpha: weight factor to weight recent values more\n",
    "    \"\"\"\n",
    "    \n",
    "    return data.ewm(alpha=alpha).mean()\n",
    "\n",
    "data = exponential_smooth(data, 0.65) # Specify smoothing factor α directly, 0<α≤1\n",
    "\n",
    "tmp1 = data.iloc[-60:]\n",
    "tmp1['close'].plot()\n"
   ]
  },
  {
   "cell_type": "code",
   "execution_count": 11,
   "id": "df9ec6b6",
   "metadata": {},
   "outputs": [
    {
     "name": "stdout",
     "output_type": "stream",
     "text": [
      "<class 'pandas.core.frame.DataFrame'>\n",
      "DatetimeIndex: 9238 entries, 1986-03-13 to 2022-11-03\n",
      "Data columns (total 6 columns):\n",
      " #   Column     Non-Null Count  Dtype  \n",
      "---  ------     --------------  -----  \n",
      " 0   open       9238 non-null   float64\n",
      " 1   high       9238 non-null   float64\n",
      " 2   low        9238 non-null   float64\n",
      " 3   close      9238 non-null   float64\n",
      " 4   Adj Close  9238 non-null   float64\n",
      " 5   volume     9238 non-null   float64\n",
      "dtypes: float64(6)\n",
      "memory usage: 505.2 KB\n"
     ]
    }
   ],
   "source": [
    "data.info()"
   ]
  },
  {
   "cell_type": "code",
   "execution_count": 12,
   "id": "fd7c81a0",
   "metadata": {},
   "outputs": [
    {
     "data": {
      "text/html": [
       "<div>\n",
       "<style scoped>\n",
       "    .dataframe tbody tr th:only-of-type {\n",
       "        vertical-align: middle;\n",
       "    }\n",
       "\n",
       "    .dataframe tbody tr th {\n",
       "        vertical-align: top;\n",
       "    }\n",
       "\n",
       "    .dataframe thead th {\n",
       "        text-align: right;\n",
       "    }\n",
       "</style>\n",
       "<table border=\"1\" class=\"dataframe\">\n",
       "  <thead>\n",
       "    <tr style=\"text-align: right;\">\n",
       "      <th></th>\n",
       "      <th>open</th>\n",
       "      <th>high</th>\n",
       "      <th>low</th>\n",
       "      <th>close</th>\n",
       "      <th>Adj Close</th>\n",
       "      <th>volume</th>\n",
       "    </tr>\n",
       "  </thead>\n",
       "  <tbody>\n",
       "    <tr>\n",
       "      <th>count</th>\n",
       "      <td>9238.000000</td>\n",
       "      <td>9238.000000</td>\n",
       "      <td>9238.000000</td>\n",
       "      <td>9238.000000</td>\n",
       "      <td>9238.000000</td>\n",
       "      <td>9.238000e+03</td>\n",
       "    </tr>\n",
       "    <tr>\n",
       "      <th>mean</th>\n",
       "      <td>45.051968</td>\n",
       "      <td>45.535926</td>\n",
       "      <td>44.552652</td>\n",
       "      <td>45.058769</td>\n",
       "      <td>39.884505</td>\n",
       "      <td>5.829692e+07</td>\n",
       "    </tr>\n",
       "    <tr>\n",
       "      <th>std</th>\n",
       "      <td>65.793219</td>\n",
       "      <td>66.466278</td>\n",
       "      <td>65.068022</td>\n",
       "      <td>65.796013</td>\n",
       "      <td>66.063861</td>\n",
       "      <td>3.408526e+07</td>\n",
       "    </tr>\n",
       "    <tr>\n",
       "      <th>min</th>\n",
       "      <td>0.088542</td>\n",
       "      <td>0.092938</td>\n",
       "      <td>0.088542</td>\n",
       "      <td>0.091653</td>\n",
       "      <td>0.057487</td>\n",
       "      <td>3.300712e+06</td>\n",
       "    </tr>\n",
       "    <tr>\n",
       "      <th>25%</th>\n",
       "      <td>4.977447</td>\n",
       "      <td>5.041457</td>\n",
       "      <td>4.937719</td>\n",
       "      <td>4.996431</td>\n",
       "      <td>3.133880</td>\n",
       "      <td>3.592927e+07</td>\n",
       "    </tr>\n",
       "    <tr>\n",
       "      <th>50%</th>\n",
       "      <td>26.947511</td>\n",
       "      <td>27.235721</td>\n",
       "      <td>26.708467</td>\n",
       "      <td>26.980873</td>\n",
       "      <td>19.051444</td>\n",
       "      <td>5.314757e+07</td>\n",
       "    </tr>\n",
       "    <tr>\n",
       "      <th>75%</th>\n",
       "      <td>41.871975</td>\n",
       "      <td>42.337554</td>\n",
       "      <td>41.380220</td>\n",
       "      <td>41.942156</td>\n",
       "      <td>30.834524</td>\n",
       "      <td>7.215886e+07</td>\n",
       "    </tr>\n",
       "    <tr>\n",
       "      <th>max</th>\n",
       "      <td>343.366656</td>\n",
       "      <td>347.694342</td>\n",
       "      <td>340.394154</td>\n",
       "      <td>342.163400</td>\n",
       "      <td>339.916048</td>\n",
       "      <td>1.031789e+09</td>\n",
       "    </tr>\n",
       "  </tbody>\n",
       "</table>\n",
       "</div>"
      ],
      "text/plain": [
       "              open         high          low        close    Adj Close  \\\n",
       "count  9238.000000  9238.000000  9238.000000  9238.000000  9238.000000   \n",
       "mean     45.051968    45.535926    44.552652    45.058769    39.884505   \n",
       "std      65.793219    66.466278    65.068022    65.796013    66.063861   \n",
       "min       0.088542     0.092938     0.088542     0.091653     0.057487   \n",
       "25%       4.977447     5.041457     4.937719     4.996431     3.133880   \n",
       "50%      26.947511    27.235721    26.708467    26.980873    19.051444   \n",
       "75%      41.871975    42.337554    41.380220    41.942156    30.834524   \n",
       "max     343.366656   347.694342   340.394154   342.163400   339.916048   \n",
       "\n",
       "             volume  \n",
       "count  9.238000e+03  \n",
       "mean   5.829692e+07  \n",
       "std    3.408526e+07  \n",
       "min    3.300712e+06  \n",
       "25%    3.592927e+07  \n",
       "50%    5.314757e+07  \n",
       "75%    7.215886e+07  \n",
       "max    1.031789e+09  "
      ]
     },
     "execution_count": 12,
     "metadata": {},
     "output_type": "execute_result"
    }
   ],
   "source": [
    "data.describe()"
   ]
  },
  {
   "cell_type": "markdown",
   "id": "5ca3826f",
   "metadata": {},
   "source": [
    "'close' is right-skewed, since the mean value is larger than its median value (50th percentile)\n",
    "\n",
    "Most of the data is actually skewed to the right"
   ]
  },
  {
   "cell_type": "code",
   "execution_count": 13,
   "id": "6dfb2145",
   "metadata": {},
   "outputs": [
    {
     "data": {
      "text/plain": [
       "<AxesSubplot:xlabel='close', ylabel='Count'>"
      ]
     },
     "execution_count": 13,
     "metadata": {},
     "output_type": "execute_result"
    },
    {
     "data": {
      "image/png": "[encoded data removed]",
      "text/plain": [
       "<Figure size 288x288 with 1 Axes>"
      ]
     },
     "metadata": {
      "needs_background": "light"
     },
     "output_type": "display_data"
    }
   ],
   "source": [
    "plt.figure(figsize=(4,4))\n",
    "sns.histplot(data['close'])"
   ]
  },
  {
   "cell_type": "markdown",
   "id": "d689322d",
   "metadata": {},
   "source": [
    "We get a visual view of the outliers to the right\n",
    "\n",
    "### Address Outliers"
   ]
  },
  {
   "cell_type": "code",
   "execution_count": 14,
   "id": "e33af7d8",
   "metadata": {},
   "outputs": [],
   "source": [
    "# function that checks the percentage of outliers based on the z-score\n",
    "\n",
    "def detect_outliers_zscore(data, col):\n",
    "    zscore = np.abs(stats.zscore(data[col]))\n",
    "    outlier_list = np.where(zscore>4.5,True,False)\n",
    "    \n",
    "    return 100.*outlier_list.sum()/data.shape[0]"
   ]
  },
  {
   "cell_type": "code",
   "execution_count": 15,
   "id": "26984fa8",
   "metadata": {},
   "outputs": [],
   "source": [
    "# calculate percentage of outliers using the detect_outliers_zscore() function\n",
    "outlier_zscore_dic = {}\n",
    "for col in ['close']:\n",
    "    outlier_val = detect_outliers_zscore(data.dropna(subset=col), col)\n",
    "    if outlier_val > 0:\n",
    "        outlier_zscore_dic[col] = outlier_val\n"
   ]
  },
  {
   "cell_type": "code",
   "execution_count": 16,
   "id": "b2b1358c",
   "metadata": {},
   "outputs": [
    {
     "data": {
      "image/png": "[encoded data removed]",
      "text/plain": [
       "<Figure size 1152x72 with 1 Axes>"
      ]
     },
     "metadata": {
      "needs_background": "light"
     },
     "output_type": "display_data"
    }
   ],
   "source": [
    "# sort the columns by their percentage of outliers\n",
    "outlier_zscore_dic_sorted = {}\n",
    "sorted_keys = sorted(outlier_zscore_dic, key=outlier_zscore_dic.get, reverse=True)\n",
    "\n",
    "for w in sorted_keys:\n",
    "    outlier_zscore_dic_sorted[w] = outlier_zscore_dic[w]\n",
    "    \n",
    "# plot percentage of outliers\n",
    "plt.figure(figsize=(16, 1))\n",
    "sns.barplot(x=list(outlier_zscore_dic_sorted.values()), y=list(outlier_zscore_dic_sorted.keys()));"
   ]
  },
  {
   "cell_type": "markdown",
   "id": "b8da909d",
   "metadata": {},
   "source": [
    "#### Drop Outliers"
   ]
  },
  {
   "cell_type": "code",
   "execution_count": 17,
   "id": "bf644e50",
   "metadata": {},
   "outputs": [
    {
     "name": "stdout",
     "output_type": "stream",
     "text": [
      "Cleaned 0.02% percentage of close.\n"
     ]
    }
   ],
   "source": [
    "for col, _ in outlier_zscore_dic.items():\n",
    "    zscore = np.abs(stats.zscore(data[col]))\n",
    "    \n",
    "    size_before = data.shape[0]\n",
    "    data.drop(data[np.abs(stats.zscore(data[col]))>4.5].index, inplace=True)\n",
    "    size_after = data.shape[0]\n",
    "    \n",
    "    print('Cleaned {:.2f}% percentage of {}.'.format((size_before-size_after)*100./size_before, col))"
   ]
  },
  {
   "cell_type": "code",
   "execution_count": 18,
   "id": "02e68d9b",
   "metadata": {},
   "outputs": [
    {
     "data": {
      "text/plain": [
       "(9236, 6)"
      ]
     },
     "execution_count": 18,
     "metadata": {},
     "output_type": "execute_result"
    }
   ],
   "source": [
    "data.shape"
   ]
  },
  {
   "cell_type": "code",
   "execution_count": 19,
   "id": "322475cd",
   "metadata": {},
   "outputs": [
    {
     "data": {
      "text/plain": [
       "<AxesSubplot:xlabel='close', ylabel='Count'>"
      ]
     },
     "execution_count": 19,
     "metadata": {},
     "output_type": "execute_result"
    },
    {
     "data": {
      "image/png": "[encoded data removed]",
      "text/plain": [
       "<Figure size 288x288 with 1 Axes>"
      ]
     },
     "metadata": {
      "needs_background": "light"
     },
     "output_type": "display_data"
    }
   ],
   "source": [
    "# Replot figure to see the change\n",
    "plt.figure(figsize=(4,4))\n",
    "sns.histplot(data['close'])"
   ]
  },
  {
   "cell_type": "code",
   "execution_count": 20,
   "id": "2d86e8dc",
   "metadata": {},
   "outputs": [
    {
     "data": {
      "text/html": [
       "<div>\n",
       "<style scoped>\n",
       "    .dataframe tbody tr th:only-of-type {\n",
       "        vertical-align: middle;\n",
       "    }\n",
       "\n",
       "    .dataframe tbody tr th {\n",
       "        vertical-align: top;\n",
       "    }\n",
       "\n",
       "    .dataframe thead th {\n",
       "        text-align: right;\n",
       "    }\n",
       "</style>\n",
       "<table border=\"1\" class=\"dataframe\">\n",
       "  <thead>\n",
       "    <tr style=\"text-align: right;\">\n",
       "      <th></th>\n",
       "      <th>open</th>\n",
       "      <th>high</th>\n",
       "      <th>low</th>\n",
       "      <th>close</th>\n",
       "      <th>Adj Close</th>\n",
       "      <th>volume</th>\n",
       "    </tr>\n",
       "    <tr>\n",
       "      <th>Date</th>\n",
       "      <th></th>\n",
       "      <th></th>\n",
       "      <th></th>\n",
       "      <th></th>\n",
       "      <th></th>\n",
       "      <th></th>\n",
       "    </tr>\n",
       "  </thead>\n",
       "  <tbody>\n",
       "    <tr>\n",
       "      <th>2022-10-28</th>\n",
       "      <td>228.529277</td>\n",
       "      <td>236.615316</td>\n",
       "      <td>227.052522</td>\n",
       "      <td>233.978308</td>\n",
       "      <td>233.978308</td>\n",
       "      <td>4.353257e+07</td>\n",
       "    </tr>\n",
       "    <tr>\n",
       "      <th>2022-10-31</th>\n",
       "      <td>231.929243</td>\n",
       "      <td>235.513359</td>\n",
       "      <td>229.715879</td>\n",
       "      <td>232.776911</td>\n",
       "      <td>232.776911</td>\n",
       "      <td>3.366864e+07</td>\n",
       "    </tr>\n",
       "    <tr>\n",
       "      <th>2022-11-01</th>\n",
       "      <td>233.665239</td>\n",
       "      <td>235.660679</td>\n",
       "      <td>228.165059</td>\n",
       "      <td>229.782418</td>\n",
       "      <td>229.782418</td>\n",
       "      <td>3.166902e+07</td>\n",
       "    </tr>\n",
       "    <tr>\n",
       "      <th>2022-11-02</th>\n",
       "      <td>230.931838</td>\n",
       "      <td>232.826240</td>\n",
       "      <td>222.883766</td>\n",
       "      <td>223.488850</td>\n",
       "      <td>223.488850</td>\n",
       "      <td>3.604871e+07</td>\n",
       "    </tr>\n",
       "    <tr>\n",
       "      <th>2022-11-03</th>\n",
       "      <td>223.884641</td>\n",
       "      <td>224.755686</td>\n",
       "      <td>217.096315</td>\n",
       "      <td>217.483598</td>\n",
       "      <td>217.483598</td>\n",
       "      <td>3.642908e+07</td>\n",
       "    </tr>\n",
       "  </tbody>\n",
       "</table>\n",
       "</div>"
      ],
      "text/plain": [
       "                  open        high         low       close   Adj Close  \\\n",
       "Date                                                                     \n",
       "2022-10-28  228.529277  236.615316  227.052522  233.978308  233.978308   \n",
       "2022-10-31  231.929243  235.513359  229.715879  232.776911  232.776911   \n",
       "2022-11-01  233.665239  235.660679  228.165059  229.782418  229.782418   \n",
       "2022-11-02  230.931838  232.826240  222.883766  223.488850  223.488850   \n",
       "2022-11-03  223.884641  224.755686  217.096315  217.483598  217.483598   \n",
       "\n",
       "                  volume  \n",
       "Date                      \n",
       "2022-10-28  4.353257e+07  \n",
       "2022-10-31  3.366864e+07  \n",
       "2022-11-01  3.166902e+07  \n",
       "2022-11-02  3.604871e+07  \n",
       "2022-11-03  3.642908e+07  "
      ]
     },
     "execution_count": 20,
     "metadata": {},
     "output_type": "execute_result"
    }
   ],
   "source": [
    "data = data.dropna() # remove any NaN values\n",
    "data.tail()"
   ]
  },
  {
   "cell_type": "markdown",
   "id": "cc991907",
   "metadata": {},
   "source": [
    "### Simple Model\n",
    "\n",
    "Use Logistic Regression to build a basic model "
   ]
  },
  {
   "cell_type": "code",
   "execution_count": 21,
   "id": "26fe40f1",
   "metadata": {},
   "outputs": [],
   "source": [
    "y=data['close'].astype(int)\n",
    "features = [x for x in data.columns if x not in ['close']]\n",
    "X = data[features]\n",
    "\n",
    "X_train, X_test, y_train, y_test = train_test_split(X,y, train_size=0.2)"
   ]
  },
  {
   "cell_type": "code",
   "execution_count": 22,
   "id": "e623559c",
   "metadata": {},
   "outputs": [],
   "source": [
    "preprocessor = Pipeline(\n",
    "    steps=[\n",
    "        ('scaler', StandardScaler())\n",
    "    ])\n"
   ]
  },
  {
   "cell_type": "code",
   "execution_count": 23,
   "id": "7dce125c",
   "metadata": {},
   "outputs": [
    {
     "data": {
      "text/plain": [
       "Pipeline(steps=[('preprocessor',\n",
       "                 Pipeline(steps=[('scaler', StandardScaler())])),\n",
       "                ('log_reg', LogisticRegression(n_jobs=-1, random_state=4))])"
      ]
     },
     "execution_count": 23,
     "metadata": {},
     "output_type": "execute_result"
    }
   ],
   "source": [
    "# build pipeline\n",
    "pipe = Pipeline(\n",
    "    steps=[\n",
    "        ('preprocessor', preprocessor),\n",
    "        ('log_reg', LogisticRegression(random_state=4, n_jobs=-1))\n",
    "    ]\n",
    ")\n",
    "pipe.fit(X_train, y_train)\n"
   ]
  },
  {
   "cell_type": "markdown",
   "id": "6c9057cd",
   "metadata": {},
   "source": [
    "### Score the Model\n",
    "\n",
    "Evaluate accuracy"
   ]
  },
  {
   "cell_type": "code",
   "execution_count": 24,
   "id": "69c84d03",
   "metadata": {},
   "outputs": [],
   "source": [
    "# predict\n",
    "y_train_pred = pipe.predict(X_train)\n",
    "y_test_pred = pipe.predict(X_test)"
   ]
  },
  {
   "cell_type": "code",
   "execution_count": 25,
   "id": "184a5fae",
   "metadata": {},
   "outputs": [
    {
     "name": "stdout",
     "output_type": "stream",
     "text": [
      "Logistic Regression Train Accuracy = 0.19707634001082838\n",
      "Logistic Regression Test Accuracy = 0.1851400730816078\n"
     ]
    }
   ],
   "source": [
    "lr_accuracy=accuracy_score(y_train, y_train_pred)\n",
    "lr_test_accuracy=accuracy_score(y_test, y_test_pred)\n",
    "\n",
    "print('Logistic Regression Train Accuracy = '+str(lr_accuracy))\n",
    "print('Logistic Regression Test Accuracy = '+str(lr_test_accuracy))"
   ]
  },
  {
   "cell_type": "markdown",
   "id": "56e0a682",
   "metadata": {},
   "source": [
    "This is very low, we will create some confusion matrices"
   ]
  },
  {
   "cell_type": "markdown",
   "id": "653b86f6",
   "metadata": {},
   "source": [
    "### Random Forest Classifier"
   ]
  },
  {
   "cell_type": "code",
   "execution_count": 26,
   "id": "cd6152c8",
   "metadata": {},
   "outputs": [
    {
     "name": "stdout",
     "output_type": "stream",
     "text": [
      "RF Accuracy = 0.8247394776018405\n"
     ]
    }
   ],
   "source": [
    "rf = RandomForestClassifier()\n",
    "\n",
    "rf.fit(X_train, y_train) # fit model\n",
    "rf_prediction=rf.predict(X_test) # predict\n",
    "rf_accuracy= accuracy_score(y_test.values, rf_prediction)\n",
    "print('RF Accuracy = '+str(rf_accuracy))"
   ]
  },
  {
   "cell_type": "code",
   "execution_count": 27,
   "id": "6263c146",
   "metadata": {},
   "outputs": [
    {
     "data": {
      "text/plain": [
       "9236"
      ]
     },
     "execution_count": 27,
     "metadata": {},
     "output_type": "execute_result"
    }
   ],
   "source": [
    "len(data)"
   ]
  },
  {
   "cell_type": "markdown",
   "id": "4ed964e6",
   "metadata": {},
   "source": [
    "### KNN Classifier "
   ]
  },
  {
   "cell_type": "code",
   "execution_count": 28,
   "id": "b5de79c1",
   "metadata": {},
   "outputs": [
    {
     "name": "stdout",
     "output_type": "stream",
     "text": [
      " Accuracy = 0.09026931925835702\n"
     ]
    }
   ],
   "source": [
    "knn = KNeighborsClassifier()\n",
    "knn.fit(X_train, y_train) # fit model\n",
    "knn_prediction=knn.predict(X_test) # predict\n",
    "knn_accuracy= accuracy_score(y_test.values, knn_prediction)\n",
    "print(' Accuracy = '+str(knn_accuracy))"
   ]
  },
  {
   "cell_type": "markdown",
   "id": "a54e3c85",
   "metadata": {},
   "source": [
    "### Another Model\n",
    "Steps:\n",
    "1. Set up a pipeline using the Pipeline object from sklearn.pipeline\n",
    "\n",
    "Pipelines are used to automate a machine learning workflow. The pipeline can involve pre-processing, feature selection, classification/ regression and post-processing.\n",
    "\n",
    "2. Perform a grid search for the best parameters using GridSearchCV()\n",
    "\n",
    "Optimization tunes the model for the best performance. The success of any learning model rests on the selection of the best parameters that give the best possible results. \n",
    "\n",
    "3. Analyze the results and visualize\n",
    "\n",
    "Scaler: For pre-processing data, i.e., transform the data to zero mean and unit variance using the StandardScaler()."
   ]
  },
  {
   "cell_type": "code",
   "execution_count": 29,
   "id": "fa855d4e",
   "metadata": {},
   "outputs": [
    {
     "data": {
      "text/plain": [
       "Pipeline(steps=[('scaler', StandardScaler()), ('ridge', Ridge())])"
      ]
     },
     "execution_count": 29,
     "metadata": {},
     "output_type": "execute_result"
    }
   ],
   "source": [
    "scaler=StandardScaler()\n",
    "transformer = TransformedTargetRegressor(regressor = Ridge())\n",
    "pipe1= Pipeline([('scaler', StandardScaler()), ('ridge', Ridge())])\n",
    "\n",
    "pipe1.fit(X_train, y_train)"
   ]
  },
  {
   "cell_type": "code",
   "execution_count": 30,
   "id": "87295cec",
   "metadata": {},
   "outputs": [
    {
     "name": "stdout",
     "output_type": "stream",
     "text": [
      "Training set score: 0.9999075445887593\n",
      "Test set score: 0.9999116106944692\n"
     ]
    }
   ],
   "source": [
    "print('Training set score: ' + str(pipe1.score(X_train,y_train)))\n",
    "print('Test set score: ' + str(pipe1.score(X_test,y_test)))"
   ]
  },
  {
   "cell_type": "code",
   "execution_count": 33,
   "id": "385b1d39",
   "metadata": {},
   "outputs": [
    {
     "name": "stdout",
     "output_type": "stream",
     "text": [
      "Test MSE: 0.21098532111095497\n",
      "Best Alpha: 0.001\n",
      "Training set score: 0.9999509222922162\n",
      "Test set score: 0.9999501290091789\n",
      "R2: 100.0%\n"
     ]
    }
   ],
   "source": [
    "param_dict = {'ridge__alpha': [0.001, 0.1, 1.0, 10.0, 100.0, 1000.0]}\n",
    "ridge=Ridge()\n",
    "grid1 = GridSearchCV(pipe1, param_grid=param_dict)\n",
    "grid1.fit(X_train, y_train)\n",
    "\n",
    "train_preds=grid1.predict(X_train)\n",
    "test_preds= grid1.predict(X_test)\n",
    "model_1_train_mse = mean_squared_error(y_train, train_preds)\n",
    "model_1_test_mse = mean_squared_error(y_test, test_preds)\n",
    "model_1_best_alpha = grid1.best_params_\n",
    "\n",
    "print(f'Test MSE: {model_1_test_mse}')\n",
    "print(f'Best Alpha: {list(model_1_best_alpha.values())[0]}')\n",
    "print('Training set score: ' + str(grid1.score(X_train, y_train)))\n",
    "print('Test set score: ' + str(grid1.score(X_test, y_test)))\n",
    "print(f\"R2: {r2_score(y_test, test_preds)*100:.4}%\")\n"
   ]
  },
  {
   "cell_type": "code",
   "execution_count": 34,
   "id": "18155f3d",
   "metadata": {},
   "outputs": [
    {
     "data": {
      "text/plain": [
       "Text(0, 0.5, 'Predicted Stock at Closing')"
      ]
     },
     "execution_count": 34,
     "metadata": {},
     "output_type": "execute_result"
    },
    {
     "data": {
      "image/png": "[encoded data removed]",
      "text/plain": [
       "<Figure size 800x800 with 1 Axes>"
      ]
     },
     "metadata": {
      "needs_background": "light"
     },
     "output_type": "display_data"
    }
   ],
   "source": [
    "plt.figure(figsize = (10,10), dpi =80)\n",
    "plt.scatter(x=y_test, y=test_preds, alpha=0.6)\n",
    "plt.plot([0, 400], [0, 400], 'r-')\n",
    "plt.title(\"Actual Stock vs. Predicted Stock Model 1\")\n",
    "plt.xlabel(\"Actual Stock at Closing\")\n",
    "plt.ylabel(\"Predicted Stock at Closing\")"
   ]
  },
  {
   "cell_type": "markdown",
   "id": "ff658067",
   "metadata": {},
   "source": [
    "Training score: how the model is fitted in the training data. \n",
    "\n",
    "Test score: The higher the score, the better the model is generalized. \n",
    "\n",
    "Very low training score and low test score is under-fitting. Which is expected here as we only use year and odometer to fit the data. This model was just generated for practice and representation.\n",
    "\n",
    "As we can see from the graph it fits very well."
   ]
  },
  {
   "cell_type": "markdown",
   "id": "6403b010",
   "metadata": {},
   "source": [
    "### Time Series Decomposition"
   ]
  },
  {
   "cell_type": "code",
   "execution_count": 35,
   "id": "4877cd6a",
   "metadata": {},
   "outputs": [],
   "source": [
    "from statsmodels.tsa.arima_model import ARIMA\n",
    "from pandas.plotting import lag_plot\n"
   ]
  },
  {
   "cell_type": "code",
   "execution_count": 37,
   "id": "29f0c038",
   "metadata": {},
   "outputs": [
    {
     "data": {
      "image/png": "[encoded data removed]",
      "text/plain": [
       "<Figure size 432x288 with 1 Axes>"
      ]
     },
     "metadata": {
      "needs_background": "light"
     },
     "output_type": "display_data"
    }
   ],
   "source": [
    "plt.figure()\n",
    "lag_plot(data['open'], lag=3)\n",
    "plt.title('Microsoft Stock - Autocorrelation plot with lag = 3')\n",
    "plt.show()"
   ]
  },
  {
   "cell_type": "code",
   "execution_count": 42,
   "id": "2eec918f",
   "metadata": {},
   "outputs": [
    {
     "name": "stderr",
     "output_type": "stream",
     "text": [
      "C:\\Users\\mohar\\anaconda3\\lib\\site-packages\\statsmodels\\tsa\\arima_model.py:472: FutureWarning: \n",
      "statsmodels.tsa.arima_model.ARMA and statsmodels.tsa.arima_model.ARIMA have\n",
      "been deprecated in favor of statsmodels.tsa.arima.model.ARIMA (note the .\n",
      "between arima and model) and\n",
      "statsmodels.tsa.SARIMAX. These will be removed after the 0.12 release.\n",
      "\n",
      "statsmodels.tsa.arima.model.ARIMA makes use of the statespace framework and\n",
      "is both well tested and maintained.\n",
      "\n",
      "To silence this warning and continue using ARMA and ARIMA until they are\n",
      "removed, use:\n",
      "\n",
      "import warnings\n",
      "warnings.filterwarnings('ignore', 'statsmodels.tsa.arima_model.ARMA',\n",
      "                        FutureWarning)\n",
      "warnings.filterwarnings('ignore', 'statsmodels.tsa.arima_model.ARIMA',\n",
      "                        FutureWarning)\n",
      "\n",
      "  warnings.warn(ARIMA_DEPRECATION_WARN, FutureWarning)\n"
     ]
    },
    {
     "name": "stdout",
     "output_type": "stream",
     "text": [
      "Testing Mean Squared Error is 2.865122016353166\n"
     ]
    }
   ],
   "source": [
    "train_data, test_data = data[0:int(len(df)*0.7)], df[int(len(df)*0.7):]\n",
    "training_data = train_data['close'].values\n",
    "test_data = test_data['close'].values\n",
    "history = [x for x in training_data]\n",
    "model_predictions = []\n",
    "N_test_observations = len(test_data)\n",
    "for time_point in range(N_test_observations):\n",
    "    model = ARIMA(history, order=(4,1,0))\n",
    "    model_fit = model.fit(disp=0)\n",
    "    output = model_fit.forecast()\n",
    "    yhat = output[0]\n",
    "    model_predictions.append(yhat)\n",
    "    true_test_value = test_data[time_point]\n",
    "    history.append(true_test_value)\n",
    "MSE_error = mean_squared_error(test_data, model_predictions)\n",
    "print('Testing Mean Squared Error is {}'.format(MSE_error))"
   ]
  },
  {
   "cell_type": "markdown",
   "id": "7241e7d9",
   "metadata": {},
   "source": [
    "Summary of the ARIMA code\n",
    "We split the training dataset into train and test sets and we use the train set to fit the model, and generate a prediction for each element on the test set.\n",
    "\n",
    "A rolling forecasting procedure is required given the dependence on observations in prior time steps for differencing and the AR model. To this end, we re-create the ARIMA model after each new observation is received.\n",
    "\n",
    "Finally, we manually keep track of all observations in a list called history that is seeded with the training data and to which new observations are appended at each iteration.\n",
    "\n",
    "Testing Mean Squared Error is 2.865"
   ]
  },
  {
   "cell_type": "code",
   "execution_count": 41,
   "id": "673e5a69",
   "metadata": {},
   "outputs": [
    {
     "data": {
      "image/png": "[encoded data removed]",
      "text/plain": [
       "<Figure size 432x288 with 1 Axes>"
      ]
     },
     "metadata": {
      "needs_background": "light"
     },
     "output_type": "display_data"
    }
   ],
   "source": [
    "test_set_range = data[int(len(df)*0.7):].index\n",
    "plt.plot(test_set_range, model_predictions, color='blue', marker='o', linestyle='dashed',label='Predicted Price')\n",
    "plt.plot(test_set_range, test_data, color='red', label='Actual Price')\n",
    "plt.title('Microsoft Prices Prediction')\n",
    "plt.xlabel('Date')\n",
    "plt.ylabel('Prices')\n",
    "plt.legend()\n",
    "plt.show()"
   ]
  },
  {
   "cell_type": "code",
   "execution_count": null,
   "id": "0e089b75",
   "metadata": {},
   "outputs": [],
   "source": []
  }
 ],
 "metadata": {
  "kernelspec": {
   "display_name": "Python 3 (ipykernel)",
   "language": "python",
   "name": "python3"
  },
  "language_info": {
   "codemirror_mode": {
    "name": "ipython",
    "version": 3
   },
   "file_extension": ".py",
   "mimetype": "text/x-python",
   "name": "python",
   "nbconvert_exporter": "python",
   "pygments_lexer": "ipython3",
   "version": "3.9.12"
  }
 },
 "nbformat": 4,
 "nbformat_minor": 5
}
